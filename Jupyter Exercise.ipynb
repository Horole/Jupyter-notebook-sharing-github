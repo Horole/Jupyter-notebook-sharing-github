{
 "cells": [
  {
   "cell_type": "markdown",
   "id": "e4055e14-8edf-412a-a391-a8498a180442",
   "metadata": {
    "tags": []
   },
   "source": [
    "# Jupyter Exercises"
   ]
  },
  {
   "cell_type": "markdown",
   "id": "87bfc449-5959-464b-9de2-cb7824711ee5",
   "metadata": {
    "tags": []
   },
   "source": [
    "## Introductions\n",
    "The Jupyter Notebook is a web-based interactive computing platform. The notebook combines live code, equations, narrative text, visualizations, ..."
   ]
  },
  {
   "cell_type": "markdown",
   "id": "55906b7e-52a5-4652-9cdf-68ca7c5fbe33",
   "metadata": {
    "jp-MarkdownHeadingCollapsed": true,
    "tags": []
   },
   "source": [
    "## Exercise 4 - Create a markdown cell to list data science languages\n",
    "* Python\n",
    "* R\n",
    "* Julia"
   ]
  },
  {
   "cell_type": "markdown",
   "id": "ff5bb7f1-3a45-4cb5-a87a-b9d9b0c4acbb",
   "metadata": {
    "tags": []
   },
   "source": [
    "## Exercise 5 list data science libraries\n",
    "1. NumPy\n",
    "2. Keras\n",
    "3. Pandas\n",
    "4. PyTorch"
   ]
  },
  {
   "cell_type": "markdown",
   "id": "a3c6ae70-d592-415b-8127-e26b38a22452",
   "metadata": {
    "tags": []
   },
   "source": [
    "## Exercise 6 a table of Data Science tools\n",
    "| Tool 1| Tool 2| Tool 3|\n",
    "| --- | --- | --- |\n",
    "| SAS| Apache Spark | BigML|\n",
    "| It is one of those data science tools which are specifically designed for statistical operation| it is a framework for cluster computing, | it offers a highly scalable, cloud-based Machine Learning service |"
   ]
  },
  {
   "cell_type": "markdown",
   "id": "8f575ee0-a774-48b9-b778-f9e7ef859074",
   "metadata": {
    "tags": []
   },
   "source": [
    "## Exercise 7 introducing arithmetic expression examples\n",
    "$e^{i\\pi} + 1 = 0$"
   ]
  },
  {
   "cell_type": "code",
   "execution_count": 13,
   "id": "92824067-fa61-479c-b6d8-ec5ed203c420",
   "metadata": {
    "scrolled": true,
    "tags": []
   },
   "outputs": [
    {
     "data": {
      "text/plain": [
       "13"
      ]
     },
     "execution_count": 13,
     "metadata": {},
     "output_type": "execute_result"
    }
   ],
   "source": [
    "## Exercise 8 a code cell to multiply and add numbers\n",
    "2*4+5"
   ]
  },
  {
   "cell_type": "code",
   "execution_count": 17,
   "id": "23ffd92d-1c4f-4fc9-874e-50e20652e826",
   "metadata": {
    "tags": []
   },
   "outputs": [
    {
     "name": "stdin",
     "output_type": "stream",
     "text": [
      "Enter Minutes :-->  230\n"
     ]
    },
    {
     "name": "stdout",
     "output_type": "stream",
     "text": [
      "Hour : Minute :-->  3  :  50\n"
     ]
    },
    {
     "data": {
      "text/plain": [
       "230"
      ]
     },
     "execution_count": 17,
     "metadata": {},
     "output_type": "execute_result"
    }
   ],
   "source": [
    "## Exercise 9 converter min to hour\n",
    "min = int(input(\"Enter Minutes :--> \"))\n",
    "print(\"Hour : Minute :--> \", int(min/60), \" : \", min % 60)"
   ]
  },
  {
   "cell_type": "markdown",
   "id": "a2e54ea9-bc86-427e-ba15-f0e0d824e873",
   "metadata": {
    "tags": []
   },
   "source": [
    "## Exercise 10 Insert a markdown cell to list Objectives\n",
    "* List popular languages that Data Scientists use.\n",
    "* List commonly used libraries used by Data Scientists.\n",
    "* list Data Science tools.\n",
    "* Edit arithmetic expression"
   ]
  },
  {
   "cell_type": "markdown",
   "id": "c45f9311-9805-4c19-a040-5cf899afd14b",
   "metadata": {
    "tags": []
   },
   "source": [
    "## Exercise 11 Create a markdown cell to indicate the Author’s name.\n",
    "\"authors\": [{\"name\": \"MELI\"}]"
   ]
  },
  {
   "cell_type": "code",
   "execution_count": 3,
   "id": "36489927-f154-4f0e-9ff2-d9692af26fed",
   "metadata": {
    "tags": []
   },
   "outputs": [
    {
     "name": "stdout",
     "output_type": "stream",
     "text": [
      "0 days, 2.5833333333333335 hours, 0 mins. \n"
     ]
    }
   ],
   "source": [
    "## Exercise 9 converter min to hour\n",
    "days = 0\n",
    "hours = 0\n",
    "mins = 0\n",
    "\n",
    "time = 155\n",
    "#days = time / 1440\n",
    "leftover_minutes = time % 1440\n",
    "hours = leftover_minutes / 60\n",
    "#mins = time - (days*1440) - (hours*60)\n",
    "print(str(days) + \" days, \" + str(hours) + \" hours, \" + str(mins) +  \" mins. \")\n",
    "\n",
    "# Result: 3.3333333333333335 hours"
   ]
  },
  {
   "cell_type": "markdown",
   "id": "9654e4fd-a519-49c4-9b08-55f23a6e7b4e",
   "metadata": {},
   "source": [
    "## Exercise 11  Create a markdown cell to indicate the Author’s name. \n",
    "# Author\n",
    "MELI"
   ]
  },
  {
   "cell_type": "code",
   "execution_count": null,
   "id": "37d7f06f-de4d-4058-9b7b-6653b5579240",
   "metadata": {},
   "outputs": [],
   "source": []
  }
 ],
 "metadata": {
  "kernelspec": {
   "display_name": "Python",
   "language": "python",
   "name": "conda-env-python-py"
  },
  "language_info": {
   "codemirror_mode": {
    "name": "ipython",
    "version": 3
   },
   "file_extension": ".py",
   "mimetype": "text/x-python",
   "name": "python",
   "nbconvert_exporter": "python",
   "pygments_lexer": "ipython3",
   "version": "3.7.12"
  }
 },
 "nbformat": 4,
 "nbformat_minor": 5
}
